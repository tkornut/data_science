{
 "cells": [
  {
   "cell_type": "code",
   "execution_count": 1,
   "metadata": {},
   "outputs": [],
   "source": [
    "import os\n",
    "import csv\n",
    "import string\n",
    "import json\n",
    "\n",
    "import pandas as pd\n",
    "import numpy as np\n",
    "import matplotlib.pyplot as plt\n",
    "# Tokenizer\n",
    "from nltk.tokenize import WhitespaceTokenizer\n",
    "# Demo with different tokenizers.\n",
    "# https://text-processing.com/demo/tokenize/"
   ]
  },
  {
   "cell_type": "code",
   "execution_count": 2,
   "metadata": {},
   "outputs": [],
   "source": [
    "# Export mappings to file.\n",
    "def save_mappings_to_csv_file(folder, filename, word_to_ix, fieldnames = [\"word\", \"index\"], show = False):\n",
    "    \"\"\"\n",
    "    Saves mappings dictionary to a file.\n",
    "\n",
    "    :param filename: File with encodings (absolute path + filename).\n",
    "    :param word_to_ix: dictionary with word:index keys\n",
    "    \"\"\"\n",
    "    # Expand path.\n",
    "    folder = os.path.expanduser(folder)\n",
    "    # Make sure directory exists.\n",
    "    os.makedirs(os.path.dirname(folder +'/'), exist_ok=True)\n",
    "\n",
    "    file_path = os.path.join(folder, filename)\n",
    "\n",
    "    with open(file_path, mode='w+') as csvfile:\n",
    "        writer = csv.DictWriter(csvfile, fieldnames=fieldnames)\n",
    "        # Create header.\n",
    "        writer.writeheader()\n",
    "\n",
    "        # Write word-index pairs.\n",
    "        for (k,v) in word_to_ix.items():\n",
    "            if show:\n",
    "                print(\"{} : {}\".format(k,v))\n",
    "            writer.writerow({fieldnames[0]:k, fieldnames[1]: v})\n"
   ]
  },
  {
   "cell_type": "code",
   "execution_count": 3,
   "metadata": {},
   "outputs": [],
   "source": [
    "def add_answer_label_to_vocabulary(answer_to_ix, answers):\n",
    "    \"\"\"\n",
    "    Processes answers one by one, treating each as a single label.\n",
    "    \"\"\"\n",
    "    for answer in answers:\n",
    "        # If new token.\n",
    "        if answer not in answer_to_ix:\n",
    "            answer_to_ix[answer] = len(answer_to_ix)\n",
    "            print(\"Adding '{}': {}\".format(answer, len(answer_to_ix)-1) ) "
   ]
  },
  {
   "cell_type": "code",
   "execution_count": 4,
   "metadata": {},
   "outputs": [],
   "source": [
    "answer_to_ix = {}"
   ]
  },
  {
   "cell_type": "code",
   "execution_count": 5,
   "metadata": {},
   "outputs": [
    {
     "name": "stdout",
     "output_type": "stream",
     "text": [
      "/Users/tomaszkornuta/data/CLEVR_v1.0\n"
     ]
    }
   ],
   "source": [
    "# Set folders.\n",
    "data_folder = os.path.expanduser('~/data/CLEVR_v1.0')\n",
    "print(data_folder)"
   ]
  },
  {
   "cell_type": "markdown",
   "metadata": {},
   "source": [
    "## Extract vocabulary"
   ]
  },
  {
   "cell_type": "markdown",
   "metadata": {},
   "source": [
    "### Training"
   ]
  },
  {
   "cell_type": "code",
   "execution_count": 6,
   "metadata": {},
   "outputs": [
    {
     "name": "stdout",
     "output_type": "stream",
     "text": [
      "dict_keys(['info', 'questions'])\n"
     ]
    }
   ],
   "source": [
    "# training\n",
    "train_file = os.path.join(data_folder, \"questions\", 'CLEVR_train_questions.json')\n",
    "with open(train_file) as f:\n",
    "    train_dataset = json.load(f)\n",
    "print(train_dataset.keys())\n",
    "train_dataset = train_dataset[\"questions\"]"
   ]
  },
  {
   "cell_type": "code",
   "execution_count": 7,
   "metadata": {},
   "outputs": [
    {
     "name": "stdout",
     "output_type": "stream",
     "text": [
      "699989\n",
      "dict_keys(['image_index', 'program', 'question_index', 'image_filename', 'question_family_index', 'split', 'answer', 'question'])\n"
     ]
    }
   ],
   "source": [
    "print(len(train_dataset))\n",
    "print(train_dataset[0].keys())"
   ]
  },
  {
   "cell_type": "code",
   "execution_count": 8,
   "metadata": {},
   "outputs": [
    {
     "name": "stdout",
     "output_type": "stream",
     "text": [
      "{'image_index': 0, 'program': [{'inputs': [], 'function': 'scene', 'value_inputs': []}, {'inputs': [0], 'function': 'filter_size', 'value_inputs': ['large']}, {'inputs': [1], 'function': 'filter_color', 'value_inputs': ['green']}, {'inputs': [2], 'function': 'count', 'value_inputs': []}, {'inputs': [], 'function': 'scene', 'value_inputs': []}, {'inputs': [4], 'function': 'filter_size', 'value_inputs': ['large']}, {'inputs': [5], 'function': 'filter_color', 'value_inputs': ['purple']}, {'inputs': [6], 'function': 'filter_material', 'value_inputs': ['metal']}, {'inputs': [7], 'function': 'filter_shape', 'value_inputs': ['cube']}, {'inputs': [8], 'function': 'count', 'value_inputs': []}, {'inputs': [3, 9], 'function': 'greater_than', 'value_inputs': []}], 'question_index': 0, 'image_filename': 'CLEVR_train_000000.png', 'question_family_index': 2, 'split': 'train', 'answer': 'yes', 'question': 'Are there more big green things than large purple shiny cubes?'}\n"
     ]
    }
   ],
   "source": [
    "print(train_dataset[0])"
   ]
  },
  {
   "cell_type": "code",
   "execution_count": 9,
   "metadata": {},
   "outputs": [
    {
     "name": "stdout",
     "output_type": "stream",
     "text": [
      "Adding 'yes': 0\n",
      "Adding '2': 1\n",
      "Adding 'no': 2\n",
      "Adding 'rubber': 3\n",
      "Adding 'large': 4\n",
      "Adding '0': 5\n",
      "Adding 'sphere': 6\n",
      "Adding 'gray': 7\n",
      "Adding 'cube': 8\n",
      "Adding 'blue': 9\n",
      "Adding 'brown': 10\n",
      "Adding '1': 11\n",
      "Adding 'yellow': 12\n",
      "Adding 'purple': 13\n",
      "Adding 'cylinder': 14\n",
      "Adding 'small': 15\n",
      "Adding 'green': 16\n",
      "Adding 'metal': 17\n",
      "Adding '3': 18\n",
      "Adding '4': 19\n",
      "Adding 'cyan': 20\n",
      "Adding '6': 21\n",
      "Adding 'red': 22\n",
      "Adding '5': 23\n",
      "Adding '8': 24\n",
      "Adding '7': 25\n",
      "Adding '9': 26\n",
      "Adding '10': 27\n"
     ]
    }
   ],
   "source": [
    "train_answers = [item[\"answer\"] for item in train_dataset]\n",
    "add_answer_label_to_vocabulary(answer_to_ix, train_answers)"
   ]
  },
  {
   "cell_type": "markdown",
   "metadata": {},
   "source": [
    "### Validation"
   ]
  },
  {
   "cell_type": "code",
   "execution_count": 10,
   "metadata": {},
   "outputs": [
    {
     "name": "stdout",
     "output_type": "stream",
     "text": [
      "dict_keys(['info', 'questions'])\n"
     ]
    }
   ],
   "source": [
    "valid_file = os.path.join(data_folder, \"questions\", 'CLEVR_val_questions.json')\n",
    "with open(valid_file) as f:\n",
    "    valid_dataset = json.load(f)\n",
    "print(valid_dataset.keys())\n",
    "valid_dataset = valid_dataset[\"questions\"]"
   ]
  },
  {
   "cell_type": "code",
   "execution_count": 11,
   "metadata": {},
   "outputs": [
    {
     "name": "stdout",
     "output_type": "stream",
     "text": [
      "149991\n",
      "dict_keys(['image_index', 'program', 'question_index', 'image_filename', 'question_family_index', 'split', 'answer', 'question'])\n"
     ]
    }
   ],
   "source": [
    "print(len(valid_dataset))\n",
    "print(valid_dataset[0].keys())"
   ]
  },
  {
   "cell_type": "code",
   "execution_count": 12,
   "metadata": {},
   "outputs": [
    {
     "name": "stdout",
     "output_type": "stream",
     "text": [
      "{'image_index': 0, 'program': [{'inputs': [], 'function': 'scene', 'value_inputs': []}, {'inputs': [0], 'function': 'filter_size', 'value_inputs': ['large']}, {'inputs': [1], 'function': 'filter_material', 'value_inputs': ['metal']}, {'inputs': [2], 'function': 'unique', 'value_inputs': []}, {'inputs': [3], 'function': 'same_shape', 'value_inputs': []}, {'inputs': [4], 'function': 'exist', 'value_inputs': []}], 'question_index': 0, 'image_filename': 'CLEVR_val_000000.png', 'question_family_index': 39, 'split': 'val', 'answer': 'no', 'question': 'Are there any other things that are the same shape as the big metallic object?'}\n"
     ]
    }
   ],
   "source": [
    "print(valid_dataset[0])"
   ]
  },
  {
   "cell_type": "code",
   "execution_count": 13,
   "metadata": {},
   "outputs": [],
   "source": [
    "valid_answers = [item[\"answer\"] for item in valid_dataset]\n",
    "add_answer_label_to_vocabulary(answer_to_ix, valid_answers)"
   ]
  },
  {
   "cell_type": "markdown",
   "metadata": {},
   "source": [
    "### Test"
   ]
  },
  {
   "cell_type": "code",
   "execution_count": 14,
   "metadata": {},
   "outputs": [
    {
     "name": "stdout",
     "output_type": "stream",
     "text": [
      "dict_keys(['info', 'questions'])\n",
      "{'split': 'test', 'license': 'Creative Commons Attribution (CC BY 4.0)', 'version': '1.0', 'date': '2/14/2017'}\n",
      "{'image_index': 0, 'split': 'test', 'image_filename': 'CLEVR_test_000000.png', 'question_index': 0, 'question': 'Is there anything else that is the same shape as the small brown matte object?'}\n"
     ]
    }
   ],
   "source": [
    "# test\n",
    "test_file = os.path.join(data_folder, \"questions\", 'CLEVR_test_questions.json')\n",
    "with open(test_file) as f:\n",
    "    test_dataset = json.load(f)\n",
    "print(test_dataset.keys())\n",
    "print(test_dataset[\"info\"])\n",
    "print(test_dataset[\"questions\"][0])"
   ]
  },
  {
   "cell_type": "markdown",
   "metadata": {},
   "source": [
    "## Save vocabulary"
   ]
  },
  {
   "cell_type": "code",
   "execution_count": 15,
   "metadata": {},
   "outputs": [
    {
     "name": "stdout",
     "output_type": "stream",
     "text": [
      "Saving to:  answers.all\n",
      "yes : 0\n",
      "2 : 1\n",
      "no : 2\n",
      "rubber : 3\n",
      "large : 4\n",
      "0 : 5\n",
      "sphere : 6\n",
      "gray : 7\n",
      "cube : 8\n",
      "blue : 9\n",
      "brown : 10\n",
      "1 : 11\n",
      "yellow : 12\n",
      "purple : 13\n",
      "cylinder : 14\n",
      "small : 15\n",
      "green : 16\n",
      "metal : 17\n",
      "3 : 18\n",
      "4 : 19\n",
      "cyan : 20\n",
      "6 : 21\n",
      "red : 22\n",
      "5 : 23\n",
      "8 : 24\n",
      "7 : 25\n",
      "9 : 26\n",
      "10 : 27\n"
     ]
    }
   ],
   "source": [
    "# Generate the name of file.\n",
    "name = 'answers.all'\n",
    "\n",
    "print(\"Saving to: \",name)\n",
    "# Save to both \"destinations.\"\n",
    "save_mappings_to_csv_file(data_folder, name, answer_to_ix)\n",
    "save_mappings_to_csv_file('.', name, answer_to_ix, show = True)\n"
   ]
  },
  {
   "cell_type": "code",
   "execution_count": null,
   "metadata": {},
   "outputs": [],
   "source": []
  }
 ],
 "metadata": {
  "kernelspec": {
   "display_name": "Python 3",
   "language": "python",
   "name": "python3"
  },
  "language_info": {
   "codemirror_mode": {
    "name": "ipython",
    "version": 3
   },
   "file_extension": ".py",
   "mimetype": "text/x-python",
   "name": "python",
   "nbconvert_exporter": "python",
   "pygments_lexer": "ipython3",
   "version": "3.7.1"
  }
 },
 "nbformat": 4,
 "nbformat_minor": 2
}
